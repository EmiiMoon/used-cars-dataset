{
 "cells": [
  {
   "cell_type": "code",
   "execution_count": 1,
   "metadata": {},
   "outputs": [],
   "source": [
    "import matplotlib.pyplot as plt\n",
    "import pandas as pd\n",
    "from sklearn.preprocessing import scale\n",
    "from sklearn.cluster import KMeans\n",
    "from sklearn.metrics import confusion_matrix\n",
    "from sklearn.decomposition import PCA"
   ]
  },
  {
   "cell_type": "markdown",
   "metadata": {},
   "source": [
    "Se normalizan los valores numéricos para mejor funcionamiento del algoritmo kmeans"
   ]
  },
  {
   "cell_type": "code",
   "execution_count": 2,
   "metadata": {},
   "outputs": [],
   "source": [
    "cars = pd.read_csv('../datasets/vehicles_clean.csv')\n",
    "\n",
    "cars['price'] = (cars['price'] - min(cars['price'])) / (max(cars['price']) - min(cars['price']))\n",
    "cars['year'] = (cars['year'] - min(cars['year'])) / (max(cars['year']) - min(cars['year']))\n",
    "cars['odometer'] = (cars['odometer'] - min(cars['odometer'])) / (max(cars['odometer']) - min(cars['odometer']))\n",
    "cars['lat'] = (cars['lat'] - min(cars['lat'])) / (max(cars['lat']) - min(cars['lat']))\n",
    "cars['long'] = (cars['long'] - min(cars['long'])) / (max(cars['long']) - min(cars['long']))"
   ]
  },
  {
   "cell_type": "markdown",
   "metadata": {},
   "source": [
    "Variables categóricas a dummies"
   ]
  },
  {
   "cell_type": "code",
   "execution_count": 3,
   "metadata": {},
   "outputs": [],
   "source": [
    "feature_cols = ['year',\n",
    "               'manufacturer',\n",
    "               'condition',\n",
    "               'cylinders',\n",
    "               'fuel',\n",
    "               'odometer',\n",
    "               'title_status',\n",
    "               'transmission',\n",
    "               'drive',\n",
    "               'size',\n",
    "               'type',\n",
    "               'paint_color',\n",
    "               'state',\n",
    "               'region',\n",
    "               'lat',\n",
    "               'long',\n",
    "               'price']\n",
    "\n",
    "cars = cars[feature_cols]\n",
    "cars = pd.get_dummies(data=cars, columns = ['manufacturer',\n",
    "                                     'condition',\n",
    "                                     'cylinders',\n",
    "                                     'fuel',\n",
    "                                     'title_status',\n",
    "                                     'transmission',\n",
    "                                     'drive',\n",
    "                                     'size',\n",
    "                                     'type',\n",
    "                                     'paint_color',\n",
    "                                     'state',\n",
    "                                     'region'])\n",
    "\n"
   ]
  },
  {
   "cell_type": "markdown",
   "metadata": {},
   "source": [
    "Análisis de componentes principales para reducir la dimensionalidad y poder representar mejor el clustering obtenido."
   ]
  },
  {
   "cell_type": "code",
   "execution_count": 17,
   "metadata": {},
   "outputs": [
    {
     "data": {
      "text/plain": [
       "array([0.10929135, 0.05898934])"
      ]
     },
     "execution_count": 17,
     "metadata": {},
     "output_type": "execute_result"
    }
   ],
   "source": [
    "pca = PCA(n_components=2)\n",
    "principalComponents = pca.fit_transform(cars)\n",
    "# Porcentaje de explicación de cada variable\n",
    "pca.explained_variance_ratio_"
   ]
  },
  {
   "cell_type": "code",
   "execution_count": 18,
   "metadata": {},
   "outputs": [],
   "source": [
    "import numpy as np\n",
    "from scipy.spatial.distance import cdist"
   ]
  },
  {
   "cell_type": "markdown",
   "metadata": {},
   "source": [
    "Método del codo para obtener el número de clusters óptimo"
   ]
  },
  {
   "cell_type": "code",
   "execution_count": 19,
   "metadata": {},
   "outputs": [
    {
     "data": {
      "text/plain": [
       "[<matplotlib.lines.Line2D at 0x20484e3e2c8>]"
      ]
     },
     "execution_count": 19,
     "metadata": {},
     "output_type": "execute_result"
    },
    {
     "data": {
      "image/png": "[encoded data removed]",
      "text/plain": [
       "<Figure size 432x288 with 1 Axes>"
      ]
     },
     "metadata": {
      "needs_background": "light"
     },
     "output_type": "display_data"
    }
   ],
   "source": [
    "# Rango de valores de K que se va a probar\n",
    "K = range(1,15)\n",
    "distortions = []\n",
    "#\n",
    "for k in K:\n",
    "    kmeansModel = KMeans(n_clusters = k)\n",
    "    kmeansModel.fit(principalComponents)\n",
    "    distortions.append(sum(np.min(cdist(principalComponents,\n",
    "                                        kmeansModel.cluster_centers_, \n",
    "                                        'euclidean'), \n",
    "                                  axis=1)\n",
    "                          ) / principalComponents.shape[0])\n",
    "    \n",
    "plt.plot(range(1, 15), distortions)"
   ]
  },
  {
   "cell_type": "markdown",
   "metadata": {},
   "source": [
    "Modelo kmeans y representación gráfica del resultado. Muchos atributos transformados a dos únicas variables: poca interpretabilidad."
   ]
  },
  {
   "cell_type": "code",
   "execution_count": 21,
   "metadata": {},
   "outputs": [
    {
     "data": {
      "image/png": "[encoded data removed]",
      "text/plain": [
       "<Figure size 432x288 with 1 Axes>"
      ]
     },
     "metadata": {
      "needs_background": "light"
     },
     "output_type": "display_data"
    }
   ],
   "source": [
    "# Kmeans\n",
    "km = KMeans(n_clusters = 5, \n",
    "            random_state = 20)\n",
    "km.fit(principalComponents)\n",
    "\n",
    "# En cada eje una componente y el color en función de las etiquetas obtenidas mediante kmeans\n",
    "plt.scatter(principalComponents[:,0], principalComponents[:,1], c = km.labels_)"
   ]
  }
 ],
 "metadata": {
  "kernelspec": {
   "display_name": "Python 3",
   "language": "python",
   "name": "python3"
  },
  "language_info": {
   "codemirror_mode": {
    "name": "ipython",
    "version": 3
   },
   "file_extension": ".py",
   "mimetype": "text/x-python",
   "name": "python",
   "nbconvert_exporter": "python",
   "pygments_lexer": "ipython3",
   "version": "3.7.4"
  }
 },
 "nbformat": 4,
 "nbformat_minor": 2
}
