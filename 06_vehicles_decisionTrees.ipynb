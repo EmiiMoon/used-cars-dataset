{
 "cells": [
  {
   "cell_type": "code",
   "execution_count": 1,
   "metadata": {},
   "outputs": [],
   "source": [
    "import pandas as pd\n",
    "import numpy as np\n",
    "from sklearn.model_selection import train_test_split\n",
    "from sklearn.metrics import confusion_matrix\n",
    "from sklearn import tree\n",
    "import matplotlib.pyplot as plt\n",
    "from matplotlib.pyplot import figure"
   ]
  },
  {
   "cell_type": "markdown",
   "metadata": {},
   "source": [
    "Se carga el dataset que ya ha sido limpiado previamente en R"
   ]
  },
  {
   "cell_type": "code",
   "execution_count": 3,
   "metadata": {},
   "outputs": [
    {
     "data": {
      "text/html": [
       "<div>\n",
       "<style scoped>\n",
       "    .dataframe tbody tr th:only-of-type {\n",
       "        vertical-align: middle;\n",
       "    }\n",
       "\n",
       "    .dataframe tbody tr th {\n",
       "        vertical-align: top;\n",
       "    }\n",
       "\n",
       "    .dataframe thead th {\n",
       "        text-align: right;\n",
       "    }\n",
       "</style>\n",
       "<table border=\"1\" class=\"dataframe\">\n",
       "  <thead>\n",
       "    <tr style=\"text-align: right;\">\n",
       "      <th></th>\n",
       "      <th>Unnamed: 0</th>\n",
       "      <th>X</th>\n",
       "      <th>region</th>\n",
       "      <th>price</th>\n",
       "      <th>year</th>\n",
       "      <th>manufacturer</th>\n",
       "      <th>model</th>\n",
       "      <th>condition</th>\n",
       "      <th>cylinders</th>\n",
       "      <th>fuel</th>\n",
       "      <th>...</th>\n",
       "      <th>title_status</th>\n",
       "      <th>transmission</th>\n",
       "      <th>drive</th>\n",
       "      <th>size</th>\n",
       "      <th>type</th>\n",
       "      <th>paint_color</th>\n",
       "      <th>state</th>\n",
       "      <th>lat</th>\n",
       "      <th>long</th>\n",
       "      <th>category</th>\n",
       "    </tr>\n",
       "  </thead>\n",
       "  <tbody>\n",
       "    <tr>\n",
       "      <td>0</td>\n",
       "      <td>4</td>\n",
       "      <td>3</td>\n",
       "      <td>auburn</td>\n",
       "      <td>2000.0</td>\n",
       "      <td>1974</td>\n",
       "      <td>chevrolet</td>\n",
       "      <td>c-10</td>\n",
       "      <td>good</td>\n",
       "      <td>4 cylinders</td>\n",
       "      <td>gas</td>\n",
       "      <td>...</td>\n",
       "      <td>clean</td>\n",
       "      <td>automatic</td>\n",
       "      <td>rwd</td>\n",
       "      <td>full-size</td>\n",
       "      <td>pickup</td>\n",
       "      <td>blue</td>\n",
       "      <td>al</td>\n",
       "      <td>32.861600</td>\n",
       "      <td>-85.216100</td>\n",
       "      <td>D</td>\n",
       "    </tr>\n",
       "    <tr>\n",
       "      <td>1</td>\n",
       "      <td>5</td>\n",
       "      <td>4</td>\n",
       "      <td>auburn</td>\n",
       "      <td>19500.0</td>\n",
       "      <td>2005</td>\n",
       "      <td>ford</td>\n",
       "      <td>f350 lariat</td>\n",
       "      <td>excellent</td>\n",
       "      <td>8 cylinders</td>\n",
       "      <td>diesel</td>\n",
       "      <td>...</td>\n",
       "      <td>lien</td>\n",
       "      <td>automatic</td>\n",
       "      <td>4wd</td>\n",
       "      <td>full-size</td>\n",
       "      <td>pickup</td>\n",
       "      <td>blue</td>\n",
       "      <td>al</td>\n",
       "      <td>32.547500</td>\n",
       "      <td>-85.468200</td>\n",
       "      <td>A</td>\n",
       "    </tr>\n",
       "    <tr>\n",
       "      <td>2</td>\n",
       "      <td>15</td>\n",
       "      <td>14</td>\n",
       "      <td>auburn</td>\n",
       "      <td>4900.0</td>\n",
       "      <td>2003</td>\n",
       "      <td>ford</td>\n",
       "      <td>expedition</td>\n",
       "      <td>good</td>\n",
       "      <td>8 cylinders</td>\n",
       "      <td>gas</td>\n",
       "      <td>...</td>\n",
       "      <td>clean</td>\n",
       "      <td>automatic</td>\n",
       "      <td>rwd</td>\n",
       "      <td>full-size</td>\n",
       "      <td>SUV</td>\n",
       "      <td>blue</td>\n",
       "      <td>al</td>\n",
       "      <td>33.151200</td>\n",
       "      <td>-85.372200</td>\n",
       "      <td>D</td>\n",
       "    </tr>\n",
       "    <tr>\n",
       "      <td>3</td>\n",
       "      <td>20</td>\n",
       "      <td>19</td>\n",
       "      <td>auburn</td>\n",
       "      <td>47000.0</td>\n",
       "      <td>2020</td>\n",
       "      <td>jeep</td>\n",
       "      <td>gladiator</td>\n",
       "      <td>like new</td>\n",
       "      <td>6 cylinders</td>\n",
       "      <td>gas</td>\n",
       "      <td>...</td>\n",
       "      <td>clean</td>\n",
       "      <td>automatic</td>\n",
       "      <td>4wd</td>\n",
       "      <td>full-size</td>\n",
       "      <td>pickup</td>\n",
       "      <td>grey</td>\n",
       "      <td>al</td>\n",
       "      <td>32.611442</td>\n",
       "      <td>-85.481615</td>\n",
       "      <td>A</td>\n",
       "    </tr>\n",
       "    <tr>\n",
       "      <td>4</td>\n",
       "      <td>48</td>\n",
       "      <td>47</td>\n",
       "      <td>auburn</td>\n",
       "      <td>6250.0</td>\n",
       "      <td>2010</td>\n",
       "      <td>ford</td>\n",
       "      <td>fusion sel</td>\n",
       "      <td>good</td>\n",
       "      <td>6 cylinders</td>\n",
       "      <td>gas</td>\n",
       "      <td>...</td>\n",
       "      <td>clean</td>\n",
       "      <td>automatic</td>\n",
       "      <td>fwd</td>\n",
       "      <td>full-size</td>\n",
       "      <td>sedan</td>\n",
       "      <td>silver</td>\n",
       "      <td>al</td>\n",
       "      <td>32.547500</td>\n",
       "      <td>-85.468200</td>\n",
       "      <td>C</td>\n",
       "    </tr>\n",
       "    <tr>\n",
       "      <td>...</td>\n",
       "      <td>...</td>\n",
       "      <td>...</td>\n",
       "      <td>...</td>\n",
       "      <td>...</td>\n",
       "      <td>...</td>\n",
       "      <td>...</td>\n",
       "      <td>...</td>\n",
       "      <td>...</td>\n",
       "      <td>...</td>\n",
       "      <td>...</td>\n",
       "      <td>...</td>\n",
       "      <td>...</td>\n",
       "      <td>...</td>\n",
       "      <td>...</td>\n",
       "      <td>...</td>\n",
       "      <td>...</td>\n",
       "      <td>...</td>\n",
       "      <td>...</td>\n",
       "      <td>...</td>\n",
       "      <td>...</td>\n",
       "      <td>...</td>\n",
       "    </tr>\n",
       "    <tr>\n",
       "      <td>83007</td>\n",
       "      <td>458205</td>\n",
       "      <td>458204</td>\n",
       "      <td>wausau</td>\n",
       "      <td>4495.0</td>\n",
       "      <td>2006</td>\n",
       "      <td>buick</td>\n",
       "      <td>lacrosse cx</td>\n",
       "      <td>good</td>\n",
       "      <td>6 cylinders</td>\n",
       "      <td>gas</td>\n",
       "      <td>...</td>\n",
       "      <td>clean</td>\n",
       "      <td>automatic</td>\n",
       "      <td>fwd</td>\n",
       "      <td>mid-size</td>\n",
       "      <td>sedan</td>\n",
       "      <td>black</td>\n",
       "      <td>wi</td>\n",
       "      <td>44.631225</td>\n",
       "      <td>-90.022076</td>\n",
       "      <td>D</td>\n",
       "    </tr>\n",
       "    <tr>\n",
       "      <td>83008</td>\n",
       "      <td>458209</td>\n",
       "      <td>458208</td>\n",
       "      <td>wausau</td>\n",
       "      <td>14995.0</td>\n",
       "      <td>2014</td>\n",
       "      <td>cadillac</td>\n",
       "      <td>srx</td>\n",
       "      <td>excellent</td>\n",
       "      <td>6 cylinders</td>\n",
       "      <td>gas</td>\n",
       "      <td>...</td>\n",
       "      <td>clean</td>\n",
       "      <td>automatic</td>\n",
       "      <td>4wd</td>\n",
       "      <td>mid-size</td>\n",
       "      <td>SUV</td>\n",
       "      <td>silver</td>\n",
       "      <td>wi</td>\n",
       "      <td>44.408867</td>\n",
       "      <td>-89.881210</td>\n",
       "      <td>B</td>\n",
       "    </tr>\n",
       "    <tr>\n",
       "      <td>83009</td>\n",
       "      <td>458210</td>\n",
       "      <td>458209</td>\n",
       "      <td>wausau</td>\n",
       "      <td>17895.0</td>\n",
       "      <td>2018</td>\n",
       "      <td>hyundai</td>\n",
       "      <td>tucson</td>\n",
       "      <td>excellent</td>\n",
       "      <td>4 cylinders</td>\n",
       "      <td>gas</td>\n",
       "      <td>...</td>\n",
       "      <td>clean</td>\n",
       "      <td>automatic</td>\n",
       "      <td>4wd</td>\n",
       "      <td>mid-size</td>\n",
       "      <td>SUV</td>\n",
       "      <td>white</td>\n",
       "      <td>wi</td>\n",
       "      <td>44.408867</td>\n",
       "      <td>-89.882240</td>\n",
       "      <td>A</td>\n",
       "    </tr>\n",
       "    <tr>\n",
       "      <td>83010</td>\n",
       "      <td>458211</td>\n",
       "      <td>458210</td>\n",
       "      <td>wyoming</td>\n",
       "      <td>17900.0</td>\n",
       "      <td>2014</td>\n",
       "      <td>cadillac</td>\n",
       "      <td>cts coupe awd</td>\n",
       "      <td>excellent</td>\n",
       "      <td>6 cylinders</td>\n",
       "      <td>gas</td>\n",
       "      <td>...</td>\n",
       "      <td>clean</td>\n",
       "      <td>automatic</td>\n",
       "      <td>4wd</td>\n",
       "      <td>mid-size</td>\n",
       "      <td>coupe</td>\n",
       "      <td>black</td>\n",
       "      <td>wy</td>\n",
       "      <td>44.784900</td>\n",
       "      <td>-106.964800</td>\n",
       "      <td>A</td>\n",
       "    </tr>\n",
       "    <tr>\n",
       "      <td>83011</td>\n",
       "      <td>458212</td>\n",
       "      <td>458211</td>\n",
       "      <td>wyoming</td>\n",
       "      <td>1300.0</td>\n",
       "      <td>2008</td>\n",
       "      <td>jeep</td>\n",
       "      <td>grand cherokee</td>\n",
       "      <td>good</td>\n",
       "      <td>8 cylinders</td>\n",
       "      <td>gas</td>\n",
       "      <td>...</td>\n",
       "      <td>clean</td>\n",
       "      <td>automatic</td>\n",
       "      <td>4wd</td>\n",
       "      <td>mid-size</td>\n",
       "      <td>SUV</td>\n",
       "      <td>white</td>\n",
       "      <td>wy</td>\n",
       "      <td>44.773500</td>\n",
       "      <td>-106.939600</td>\n",
       "      <td>D</td>\n",
       "    </tr>\n",
       "  </tbody>\n",
       "</table>\n",
       "<p>83012 rows × 21 columns</p>\n",
       "</div>"
      ],
      "text/plain": [
       "       Unnamed: 0       X   region    price  year manufacturer  \\\n",
       "0               4       3   auburn   2000.0  1974    chevrolet   \n",
       "1               5       4   auburn  19500.0  2005         ford   \n",
       "2              15      14   auburn   4900.0  2003         ford   \n",
       "3              20      19   auburn  47000.0  2020         jeep   \n",
       "4              48      47   auburn   6250.0  2010         ford   \n",
       "...           ...     ...      ...      ...   ...          ...   \n",
       "83007      458205  458204   wausau   4495.0  2006        buick   \n",
       "83008      458209  458208   wausau  14995.0  2014     cadillac   \n",
       "83009      458210  458209   wausau  17895.0  2018      hyundai   \n",
       "83010      458211  458210  wyoming  17900.0  2014     cadillac   \n",
       "83011      458212  458211  wyoming   1300.0  2008         jeep   \n",
       "\n",
       "                model  condition    cylinders    fuel  ...  title_status  \\\n",
       "0                c-10       good  4 cylinders     gas  ...         clean   \n",
       "1         f350 lariat  excellent  8 cylinders  diesel  ...          lien   \n",
       "2          expedition       good  8 cylinders     gas  ...         clean   \n",
       "3           gladiator   like new  6 cylinders     gas  ...         clean   \n",
       "4          fusion sel       good  6 cylinders     gas  ...         clean   \n",
       "...               ...        ...          ...     ...  ...           ...   \n",
       "83007     lacrosse cx       good  6 cylinders     gas  ...         clean   \n",
       "83008             srx  excellent  6 cylinders     gas  ...         clean   \n",
       "83009          tucson  excellent  4 cylinders     gas  ...         clean   \n",
       "83010   cts coupe awd  excellent  6 cylinders     gas  ...         clean   \n",
       "83011  grand cherokee       good  8 cylinders     gas  ...         clean   \n",
       "\n",
       "      transmission drive       size    type paint_color state        lat  \\\n",
       "0        automatic   rwd  full-size  pickup        blue    al  32.861600   \n",
       "1        automatic   4wd  full-size  pickup        blue    al  32.547500   \n",
       "2        automatic   rwd  full-size     SUV        blue    al  33.151200   \n",
       "3        automatic   4wd  full-size  pickup        grey    al  32.611442   \n",
       "4        automatic   fwd  full-size   sedan      silver    al  32.547500   \n",
       "...            ...   ...        ...     ...         ...   ...        ...   \n",
       "83007    automatic   fwd   mid-size   sedan       black    wi  44.631225   \n",
       "83008    automatic   4wd   mid-size     SUV      silver    wi  44.408867   \n",
       "83009    automatic   4wd   mid-size     SUV       white    wi  44.408867   \n",
       "83010    automatic   4wd   mid-size   coupe       black    wy  44.784900   \n",
       "83011    automatic   4wd   mid-size     SUV       white    wy  44.773500   \n",
       "\n",
       "             long  category  \n",
       "0      -85.216100         D  \n",
       "1      -85.468200         A  \n",
       "2      -85.372200         D  \n",
       "3      -85.481615         A  \n",
       "4      -85.468200         C  \n",
       "...           ...       ...  \n",
       "83007  -90.022076         D  \n",
       "83008  -89.881210         B  \n",
       "83009  -89.882240         A  \n",
       "83010 -106.964800         A  \n",
       "83011 -106.939600         D  \n",
       "\n",
       "[83012 rows x 21 columns]"
      ]
     },
     "execution_count": 3,
     "metadata": {},
     "output_type": "execute_result"
    }
   ],
   "source": [
    "cars = pd.read_csv('../datasets/vehicles_clean.csv')\n",
    "cars"
   ]
  },
  {
   "cell_type": "markdown",
   "metadata": {},
   "source": [
    "Convertimos las variables categóricas en dummies y dividimos en train y test. Tenemos dos variables de salida: price para regresión y category para clasificación."
   ]
  },
  {
   "cell_type": "code",
   "execution_count": 5,
   "metadata": {},
   "outputs": [],
   "source": [
    "feature_cols = ['year',\n",
    "               'manufacturer',\n",
    "               'condition',\n",
    "               'cylinders',\n",
    "               'fuel',\n",
    "               'odometer',\n",
    "               'title_status',\n",
    "               'transmission',\n",
    "               'drive',\n",
    "               'size',\n",
    "               'type',\n",
    "               'paint_color',\n",
    "               'state',\n",
    "               'region',\n",
    "               'model',\n",
    "               'lat',\n",
    "               'long']\n",
    "\n",
    "X = cars[feature_cols]\n",
    "X = pd.get_dummies(data=X, columns = ['manufacturer',\n",
    "                                     'condition',\n",
    "                                     'cylinders',\n",
    "                                     'fuel',\n",
    "                                     'title_status',\n",
    "                                     'transmission',\n",
    "                                     'drive',\n",
    "                                     'size',\n",
    "                                     'type',\n",
    "                                     'paint_color',\n",
    "                                     'state',\n",
    "                                     'region',\n",
    "                                     'model'])\n",
    "\n",
    "y = cars[['price','category']]\n",
    "\n",
    "train_x, test_x, train_y, test_y = train_test_split(X, \n",
    "                                                    y, \n",
    "                                                    test_size = 0.25, \n",
    "                                                    random_state = 123)"
   ]
  },
  {
   "cell_type": "markdown",
   "metadata": {},
   "source": [
    "Modelo de árbol de decisión para regresión."
   ]
  },
  {
   "cell_type": "code",
   "execution_count": 6,
   "metadata": {},
   "outputs": [
    {
     "name": "stdout",
     "output_type": "stream",
     "text": [
      "Train Score:  0.9998801927831847\n",
      "Test Score:  0.6803299111753707\n"
     ]
    }
   ],
   "source": [
    "dtr = tree.DecisionTreeRegressor()\n",
    "dtr_model = dtr.fit(train_x, train_y['price'])\n",
    "train_score = dtr.score(train_x, train_y['price'])\n",
    "test_score = dtr.score(test_x, test_y['price'])\n",
    "print('Train Score: ', train_score)\n",
    "print('Test Score: ', test_score)"
   ]
  },
  {
   "cell_type": "markdown",
   "metadata": {},
   "source": [
    "Gráfica comparando el valor esperado con la predicción. A pesar de que el score de test es bajo, en la gráfica apreciamos como realmente no clasifica mal el modelo, el problema está en que hay vehículos muy caros que actuan como ruido y hacen que el modelo falle."
   ]
  },
  {
   "cell_type": "code",
   "execution_count": 10,
   "metadata": {},
   "outputs": [
    {
     "data": {
      "text/plain": [
       "<matplotlib.legend.Legend at 0x1e5d6679a48>"
      ]
     },
     "execution_count": 10,
     "metadata": {},
     "output_type": "execute_result"
    },
    {
     "data": {
      "image/png": "[encoded data removed]",
      "text/plain": [
       "<Figure size 432x288 with 1 Axes>"
      ]
     },
     "metadata": {
      "needs_background": "light"
     },
     "output_type": "display_data"
    }
   ],
   "source": [
    "dtr_predict = dtr.predict(test_x)\n",
    "plt.plot(np.array(test_y['price']), 'bo', label=\"Precio real\")\n",
    "plt.plot(dtr_predict, 'r', label=\"Predicción\")\n",
    "plt.legend()"
   ]
  },
  {
   "cell_type": "markdown",
   "metadata": {},
   "source": [
    "Árbol de decisión para clasificación y matriz de confusión obtenida."
   ]
  },
  {
   "cell_type": "code",
   "execution_count": 183,
   "metadata": {},
   "outputs": [
    {
     "name": "stdout",
     "output_type": "stream",
     "text": [
      "Train Score:  0.9987471690839879\n",
      "Test Score:  0.7484219149038693\n",
      "[[4169  497   70   47]\n",
      " [ 543 3840  762  187]\n",
      " [  92  798 3400  987]\n",
      " [  50  215  973 4123]]\n"
     ]
    }
   ],
   "source": [
    "dtc = tree.DecisionTreeClassifier()\n",
    "dtc_model = dtc.fit(train_x, train_y['category'])\n",
    "train_score = dtc.score(train_x, train_y['category'])\n",
    "test_score = dtc.score(test_x, test_y['category'])\n",
    "print('Train Score: ', train_score)\n",
    "print('Test Score: ', test_score)\n",
    "\n",
    "dtc_predict = dtc.predict(test_x)\n",
    "cm = confusion_matrix(test_y['category'], predict)\n",
    "\n",
    "print(cm)"
   ]
  },
  {
   "cell_type": "code",
   "execution_count": 16,
   "metadata": {},
   "outputs": [
    {
     "data": {
      "text/plain": [
       "count     83012.000000\n",
       "mean      12519.500614\n",
       "std       11409.153766\n",
       "min           2.000000\n",
       "25%        4995.000000\n",
       "50%        8995.000000\n",
       "75%       16350.000000\n",
       "max      345000.000000\n",
       "Name: price, dtype: float64"
      ]
     },
     "execution_count": 16,
     "metadata": {},
     "output_type": "execute_result"
    }
   ],
   "source": [
    "cars.price.describe()"
   ]
  },
  {
   "cell_type": "markdown",
   "metadata": {},
   "source": [
    "Como hemos visto que los valores muy elevados perjudican al modelo, vamos a probar a eliminar este \"ruido\"."
   ]
  },
  {
   "cell_type": "code",
   "execution_count": 32,
   "metadata": {},
   "outputs": [],
   "source": [
    "cars2 = cars[cars['price'] < 50000]"
   ]
  },
  {
   "cell_type": "code",
   "execution_count": 33,
   "metadata": {},
   "outputs": [],
   "source": [
    "feature_cols = ['year',\n",
    "               'manufacturer',\n",
    "               'condition',\n",
    "               'cylinders',\n",
    "               'fuel',\n",
    "               'odometer',\n",
    "               'title_status',\n",
    "               'transmission',\n",
    "               'drive',\n",
    "               'size',\n",
    "               'type',\n",
    "               'paint_color',\n",
    "               'state',\n",
    "               'region',\n",
    "               'model',\n",
    "               'lat',\n",
    "               'long']\n",
    "\n",
    "X = cars2[feature_cols]\n",
    "X = pd.get_dummies(data=X, columns = ['manufacturer',\n",
    "                                     'condition',\n",
    "                                     'cylinders',\n",
    "                                     'fuel',\n",
    "                                     'title_status',\n",
    "                                     'transmission',\n",
    "                                     'drive',\n",
    "                                     'size',\n",
    "                                     'type',\n",
    "                                     'paint_color',\n",
    "                                     'state',\n",
    "                                     'region',\n",
    "                                     'model'])\n",
    "\n",
    "y = cars2[['price','category']]\n",
    "\n",
    "train_x, test_x, train_y, test_y = train_test_split(X, \n",
    "                                                    y, \n",
    "                                                    test_size = 0.25, \n",
    "                                                    random_state = 123)"
   ]
  },
  {
   "cell_type": "markdown",
   "metadata": {},
   "source": [
    "La puntuación de test mejora a 0.74"
   ]
  },
  {
   "cell_type": "code",
   "execution_count": 36,
   "metadata": {},
   "outputs": [
    {
     "name": "stdout",
     "output_type": "stream",
     "text": [
      "Train Score:  0.9997943784684615\n",
      "Test Score:  0.7450681010475454\n"
     ]
    }
   ],
   "source": [
    "dtr = tree.DecisionTreeRegressor()\n",
    "dtr_model = dtr.fit(train_x, train_y['price'])\n",
    "train_score = dtr.score(train_x, train_y['price'])\n",
    "test_score = dtr.score(test_x, test_y['price'])\n",
    "print('Train Score: ', train_score)\n",
    "print('Test Score: ', test_score)"
   ]
  },
  {
   "cell_type": "markdown",
   "metadata": {},
   "source": [
    "La predicción se adapta mucho más al valor esperado."
   ]
  },
  {
   "cell_type": "code",
   "execution_count": 35,
   "metadata": {},
   "outputs": [
    {
     "data": {
      "text/plain": [
       "<matplotlib.legend.Legend at 0x1e6168acfc8>"
      ]
     },
     "execution_count": 35,
     "metadata": {},
     "output_type": "execute_result"
    },
    {
     "data": {
      "image/png": "[encoded data removed]",
      "text/plain": [
       "<Figure size 1224x432 with 1 Axes>"
      ]
     },
     "metadata": {
      "needs_background": "light"
     },
     "output_type": "display_data"
    }
   ],
   "source": [
    "dtr_predict = dtr.predict(test_x)\n",
    "plt.figure(figsize=(17, 6))\n",
    "plt.plot(np.array(test_y['price']), 'b', label=\"Precio real\")\n",
    "plt.plot(dtr_predict, 'r', label=\"Predicción\")\n",
    "plt.legend()\n"
   ]
  }
 ],
 "metadata": {
  "kernelspec": {
   "display_name": "Python 3",
   "language": "python",
   "name": "python3"
  },
  "language_info": {
   "codemirror_mode": {
    "name": "ipython",
    "version": 3
   },
   "file_extension": ".py",
   "mimetype": "text/x-python",
   "name": "python",
   "nbconvert_exporter": "python",
   "pygments_lexer": "ipython3",
   "version": "3.7.4"
  }
 },
 "nbformat": 4,
 "nbformat_minor": 4
}
